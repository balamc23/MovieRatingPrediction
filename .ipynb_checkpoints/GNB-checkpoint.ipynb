{
 "cells": [
  {
   "cell_type": "code",
   "execution_count": 1,
   "metadata": {
    "collapsed": true
   },
   "outputs": [],
   "source": [
    "import numpy as np\n",
    "import numpy.linalg as la\n",
    "import pandas as pd"
   ]
  },
  {
   "cell_type": "code",
   "execution_count": 2,
   "metadata": {
    "collapsed": true
   },
   "outputs": [],
   "source": [
    "def GNB(train, target, test):\n",
    "    train['rating'] = target['rating']\n",
    "    n_feat = train.shape[1]\n",
    "    n_samp = train.shape[0]\n",
    "    count_rating = np.zeros(5)\n",
    "    count_male = len(train[train['Gender'] == 0])\n",
    "    count_female = n_samp - count_male\n",
    "    genre_dict = {'Drama': 1, 'Comedy': 2, 'Thriller' : 3, 'Action' : 4, 'Romance': 5, 'Horror': 6, 'Adventure': 7, 'Sci-Fi': 8, 'Children\\'s' : 9, 'Crime': 10, 'War' : 11, 'Documentary' : 12, 'Musical': 13, 'Animation': 14, 'Mystery': 15, 'Fantasy': 16, 'Western': 17, 'Film-Noir': 18}\n",
    "    genre_dict = list(genre_dict.keys())\n",
    "    count_genres = np.array((5,18))\n",
    "    count_male_r = np.array(5)\n",
    "    count_female_r = np.array(5)\n",
    "    year_mean_r = np.array(5)\n",
    "    year_var_r = np.array(5)\n",
    "    occupations = list(train.Occupation.unique())\n",
    "    count_occup_r = np.array((5, len(occupations)))\n",
    "    age_mean_r = np.array(5)\n",
    "    age_var_r = np.array(5)\n",
    "    data_means = data.groupby('rating').mean()\n",
    "    data_variance = data.groupby('rating').var()\n",
    "    \n",
    "    for rating in range(1,6):\n",
    "        \n",
    "        count_rating[rating-1] = train['rating'][train['rating'] == rating].count()\n",
    "        count_male_r[rating-1] = train[train['rating'] == rating & train['Gender'] == 0].count()\n",
    "        count_female_r[rating-1] = count_rating[rating-1] - count_male_r[rating-1]\n",
    "        for i, genre in enumerate(genre_dict):\n",
    "            count_genres[rating-1][i] = train[train[str(genre)] == 1 & train['rating'] == rating].count()\n",
    "        for i, occupation in enumerate(occupations):\n",
    "            count_occup_r[rating-1][i] = train[train['Occupation'] == occupations[i] & train['rating'] == rating].count()\n",
    "    \n",
    "        year_mean_r[rating-1] = data_means['Year'][data_means.index == rating].values[0]\n",
    "        year_var_r[rating-1] = data_variance['Year'][data_variance.index == rating].values[0]\n",
    "        age_mean_r[rating-1] = data_means['Age'][data_means.index == rating].values[0]\n",
    "        age_var_r[rating-1] = data_variance['Age'][data_variance.index == rating].values[0]\n",
    "    \n",
    "    print ('Classifier Made, Starting Predictive Task')\n",
    "    \n",
    "    pred = np.zeros(len(test))\n",
    "    for i in range(len(test)):\n",
    "        rating_probs = []\n",
    "        for rating in range(1,6):\n",
    "            prob_age = 0.\n",
    "            prob_gender = 0.\n",
    "            prob_occ = 0.\n",
    "            prob_year = 0.\n",
    "            prob_genre = 0.\n",
    "            age_mean = age_mean_r[rating-1]\n",
    "            age_var = age_var_r[rating-1]\n",
    "            year_mean = year_mean_r[rating-1]\n",
    "            year_var = year_var_r[rating-1]\n",
    "            prob_age = 1/(np.sqrt(2*np.pi*age_var)) * np.exp((-(test['Age'][i]-age_mean)**2)/(2*age_var)) if (age_mean != 0 and age_var != 0) else 0.02\n",
    "            prob_gender = count_male_r[rating-1]/count_rating[rating-1] if test['Gender'][i] == 0 else count_female_r[rating-1]/count_rating[rating-1]\n",
    "            if prob_gender == 0: prob_gender = 0.5\n",
    "            for i, occ in enumerate(occupations):\n",
    "                if occ == test['Occupation'][i]:\n",
    "                    prob_occ = count_occup_r[rating-1][i]/count_rating[rating-1]\n",
    "            if prob_occ == 0: prob_occ = 1/len(occupations)\n",
    "            \n",
    "            prob_year = 1/(np.sqrt(2*np.pi*year_var)) * np.exp((-(test['Year'][i]-year_mean)**2)/(2*year_var)) if (year_mean != 0 and year_var != 0) else 0.02\n",
    "            \n",
    "            num_genres = 0\n",
    "            for i, genre in genre_dict:\n",
    "                if test[str(genre)][i] == 1:\n",
    "                    prob_genre += (count_genres[rating-1][i])\n",
    "                    num_genres += 1\n",
    "            prob_genre /= (num_genres*count_rating[rating-1])\n",
    "            if prob_genre == 0: prob_genre = 0.02\n",
    "            prob_rating = prob_age * prob_gender * prob_occ * prob_year * prob_genre * (count_rating[rating-1]/n_samp)\n",
    "            rating_probs.append(prob_rating)\n",
    "        \n",
    "        pred[i] = np.argmax(rating_probs) + 1\n",
    "    \n",
    "    return pred"
   ]
  },
  {
   "cell_type": "code",
   "execution_count": null,
   "metadata": {
    "collapsed": true
   },
   "outputs": [],
   "source": []
  }
 ],
 "metadata": {
  "kernelspec": {
   "display_name": "Python 3",
   "language": "python",
   "name": "python3"
  },
  "language_info": {
   "codemirror_mode": {
    "name": "ipython",
    "version": 3
   },
   "file_extension": ".py",
   "mimetype": "text/x-python",
   "name": "python",
   "nbconvert_exporter": "python",
   "pygments_lexer": "ipython3",
   "version": "3.6.0"
  }
 },
 "nbformat": 4,
 "nbformat_minor": 2
}
