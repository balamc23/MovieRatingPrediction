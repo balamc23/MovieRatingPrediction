{
 "cells": [
  {
   "cell_type": "code",
   "execution_count": 1,
   "metadata": {
    "collapsed": true
   },
   "outputs": [],
   "source": [
    "import numpy as np\n",
    "import numpy.linalg as la\n",
    "import pandas as pd\n",
    "import scipy.stats as sp\n",
    "from random import randint"
   ]
  },
  {
   "cell_type": "code",
   "execution_count": 2,
   "metadata": {
    "collapsed": true
   },
   "outputs": [],
   "source": [
    "#Import Training Data Using Pandas\n",
    "training_data = pd.read_csv('./Data/train.txt')\n",
    "\n",
    "#Assign 'rating' column to a pandas dataframe\n",
    "target = training_data[\"rating\"]\n",
    "\n",
    "#Import the user and movie information\n",
    "data_movie = pd.read_csv('./Data/movie.txt')\n",
    "data_user = pd.read_csv('./Data/user.txt')\n",
    "\n",
    "#Merge training data with movie information\n",
    "training_data = pd.merge(training_data, data_movie, left_on = 'movie-Id', right_on = 'Id')\n",
    "\n",
    "#Merge Training data with user information\n",
    "training_data = pd.merge(training_data, data_user, left_on='user-Id', right_on='ID')\n",
    "\n",
    "#Drop irrelevant columns\n",
    "training_data = training_data.drop(['user-Id', 'movie-Id', 'Id_x', 'Id_y', 'ID'], 1)\n",
    "\n",
    "#Rearrange columns\n",
    "training_data = training_data[['Gender', 'Age', 'Occupation', 'Genre', 'Year', 'rating']]\n",
    "\n",
    "#Assign target based on new arrangement\n",
    "target = training_data[\"rating\"]"
   ]
  },
  {
   "cell_type": "code",
   "execution_count": 3,
   "metadata": {
    "collapsed": true
   },
   "outputs": [],
   "source": [
    "#Function to assign Female as 1, Male as 0 and Nan as np.nan\n",
    "def assignGender(c):\n",
    "    if not isinstance(c['Gender'], str):\n",
    "        return np.nan\n",
    "    else:\n",
    "        if c['Gender'] == 'F':\n",
    "            return 1\n",
    "        else: \n",
    "            return 0\n",
    "\n",
    "#Applying the assignGender function to the row column, converting all 'F' with 1, 'M' with 0 and Nan with np.nan\n",
    "training_data['Gender'] = training_data.apply(assignGender, axis=1)"
   ]
  },
  {
   "cell_type": "code",
   "execution_count": 4,
   "metadata": {
    "collapsed": true
   },
   "outputs": [],
   "source": [
    "#List of genres\n",
    "genre_dict = {'Drama': 1, 'Comedy': 2, 'Thriller' : 3, 'Action' : 4, 'Romance': 5, 'Horror': 6, 'Adventure': 7, 'Sci-Fi': 8, 'Children\\'s' : 9, 'Crime': 10, 'War' : 11, 'Documentary' : 12, 'Musical': 13, 'Animation': 14, 'Mystery': 15, 'Fantasy': 16, 'Western': 17, 'Film-Noir': 18}\n",
    "genre_dict = list(genre_dict.keys())\n",
    "\n",
    "#Column for each genre. 1 means the movie is of the genre, 0 means it isn't. Initialized as -1\n",
    "for j in genre_dict:\n",
    "    training_data[str(j)] = -1\n",
    "\n",
    "#Function to assign the several Genre columns.\n",
    "def assignGenres(row):\n",
    "    if not isinstance(row['Genre'], str):\n",
    "        for j in genre_dict:\n",
    "            row[str(j)] = np.nan\n",
    "    else:\n",
    "        y = row['Genre'].split('|')\n",
    "        for j in genre_dict:\n",
    "            if j in y:\n",
    "                row[str(j)] = 1\n",
    "            else: \n",
    "                row[str(j)] = 0\n",
    "    return row\n",
    "\n",
    "#Applying the assignGenres function to each column\n",
    "training_data = training_data.apply(lambda row: assignGenres(row), axis = 1)"
   ]
  },
  {
   "cell_type": "code",
   "execution_count": 5,
   "metadata": {
    "collapsed": true
   },
   "outputs": [],
   "source": [
    "#Dropping the original genre column, since that information is covered by the new genre specific columns\n",
    "training_data = training_data.drop('Genre', 1)\n",
    "target = training_data['rating']\n",
    "\n",
    "#Getting the mean and standard deviation of the Age column\n",
    "meanAge = int(training_data['Age'].mean())\n",
    "stdAge = int(training_data['Age'].std())\n",
    "\n",
    "#Function to fill missing age entries with random values between mean+-std\n",
    "def fillNanAge(c):\n",
    "    if c['Age'] == np.nan or c['Age'] == 'NaN':\n",
    "        return randint(int(meanAge-stdAge),int(meanAge+stdAge))\n",
    "    return c['Age']\n",
    "\n",
    "#Fill the missing values in age column with a random value between mean+-std using the fillNanAge function\n",
    "training_data['Age'].fillna(training_data.groupby('rating')['Age'].transform(lambda x: (randint(meanAge-stdAge,meanAge+stdAge))), inplace=True)\n",
    "\n",
    "#Drop the rating field\n",
    "training_data = training_data.drop('rating', 1)"
   ]
  },
  {
   "cell_type": "code",
   "execution_count": 6,
   "metadata": {},
   "outputs": [
    {
     "name": "stdout",
     "output_type": "stream",
     "text": [
      "Training Data Tasks Done.\n"
     ]
    }
   ],
   "source": [
    "#Filling in other missing values using heuristics based on previous data analysis\n",
    "training_data['Occupation'].fillna(training_data.groupby('Age')['Occupation'].transform(lambda x: sp.mode(x)), inplace=True)\n",
    "training_data['Year'].fillna(training_data['Year'].median(), inplace = True)\n",
    "for i in genre_dict:\n",
    "    training_data[i].fillna(training_data.groupby('Age')[i].transform(lambda x: 1 if x.mean() > 0.055 else 0), inplace=True)\n",
    "training_data['Gender'].fillna(training_data.groupby('Occupation')['Gender'].transform(lambda x: 1 if x.mean() >= 0.5 else 0), inplace=True)\n",
    "\n",
    "#Rearranging the columns in a fixed order\n",
    "training_data = training_data[['Gender', 'Age', 'Occupation', 'Year', 'War', 'Mystery', 'Fantasy', 'Musical', 'Crime', 'Adventure', 'Sci-Fi',\n",
    "       'Drama', 'Action', 'Documentary', 'Romance', 'Comedy', \"Children's\",\n",
    "       'Thriller', 'Western', 'Film-Noir', 'Horror', 'Animation']]\n",
    "\n",
    "\n",
    "print (\"Training Data Tasks Done.\")"
   ]
  },
  {
   "cell_type": "code",
   "execution_count": 7,
   "metadata": {},
   "outputs": [
    {
     "name": "stdout",
     "output_type": "stream",
     "text": [
      "Test Data imported and merged\n"
     ]
    }
   ],
   "source": [
    "#Read the test data and merge it with the movie and user information\n",
    "test_data = pd.read_csv('./Data/test.txt')\n",
    "test_data = pd.merge(test_data, data_movie, left_on = 'movie-Id', right_on = 'Id')\n",
    "test_data = pd.merge(test_data, data_user, left_on='user-Id', right_on='ID')\n",
    "print (\"Test Data imported and merged\")\n",
    "\n",
    "#Assigning individual rows for each genre just like the training data\n",
    "for j in genre_dict:\n",
    "    test_data[str(j)] = -1\n",
    "test_data = test_data.apply(lambda row: assignGenres(row), axis = 1)\n",
    "test_data = test_data.drop(['Genre', 'ID', 'Id_y', 'user-Id', 'movie-Id'], 1)\n",
    "\n",
    "#Assigning 1 to females, 0 to males and np.nan to Nan just like the training data\n",
    "test_data['Gender'] = test_data.apply(assignGender, axis=1)\n",
    "\n",
    "#Randomly filling the missing age entries using same heuristic as earlier\n",
    "test_data['Age'].fillna(test_data.groupby('Id_x')['Age'].transform(lambda x: (randint(meanAge-stdAge,meanAge+stdAge))), inplace=True)\n"
   ]
  },
  {
   "cell_type": "code",
   "execution_count": 8,
   "metadata": {},
   "outputs": [
    {
     "name": "stdout",
     "output_type": "stream",
     "text": [
      "Test Data tasks done\n"
     ]
    }
   ],
   "source": [
    "#Filling other missing entries using the same heuristics as used for training data\n",
    "test_data['Occupation'].fillna(test_data.groupby('Age')['Occupation'].transform(lambda x: sp.mode(x)), inplace=True)\n",
    "test_data['Year'].fillna(test_data['Year'].median(), inplace = True)\n",
    "for i in genre_dict:\n",
    "    test_data[i].fillna(test_data.groupby('Age')[i].transform(lambda x: 1 if x.mean() > 0.055 else 0), inplace=True)\n",
    "test_data['Gender'].fillna(test_data.groupby('Occupation')['Gender'].transform(lambda x: 1 if x.mean() >= 0.5 else 0), inplace=True)\n",
    "test_ids = test_data['Id_x']\n",
    "\n",
    "#Rearranging columns to a fixed order\n",
    "test_data = test_data[['Gender', 'Age', 'Occupation', 'Year', 'War', 'Mystery', 'Fantasy', 'Musical', 'Crime', 'Adventure', 'Sci-Fi',\n",
    "       'Drama', 'Action', 'Documentary', 'Romance', 'Comedy', \"Children's\",\n",
    "       'Thriller', 'Western', 'Film-Noir', 'Horror', 'Animation']]\n",
    "\n",
    "print (\"Test Data tasks done\")\n",
    "\n"
   ]
  },
  {
   "cell_type": "code",
   "execution_count": 9,
   "metadata": {
    "collapsed": true
   },
   "outputs": [],
   "source": [
    "#Gaussian Naive Bayesian Classifier\n",
    "def GNB(train, target, test):\n",
    "    train = pd.concat([train, target], axis=1) #concatenate training data with corresponding ratings\n",
    "    #Variables to hold the priors\n",
    "    n_feat = train.shape[1]\n",
    "    n_samp = train.shape[0]\n",
    "    count_rating = np.zeros(5)\n",
    "    count_male = len(train[train['Gender'] == 0])\n",
    "    count_female = n_samp - count_male\n",
    "    genre_dict = {'Drama': 1, 'Comedy': 2, 'Thriller' : 3, 'Action' : 4, 'Romance': 5, 'Horror': 6, 'Adventure': 7, 'Sci-Fi': 8, 'Children\\'s' : 9, 'Crime': 10, 'War' : 11, 'Documentary' : 12, 'Musical': 13, 'Animation': 14, 'Mystery': 15, 'Fantasy': 16, 'Western': 17, 'Film-Noir': 18}\n",
    "    genre_dict = list(genre_dict.keys())\n",
    "    count_genres = np.zeros((5,18))\n",
    "    count_male_r = np.zeros(5)\n",
    "    count_female_r = np.zeros(5)\n",
    "    year_mean_r = np.zeros(5)\n",
    "    year_var_r = np.zeros(5)\n",
    "    occupations = list(train.Occupation.unique())\n",
    "    count_occup_r = np.zeros((5, len(occupations)))\n",
    "    age_mean_r = np.zeros(5)\n",
    "    age_var_r = np.zeros(5)\n",
    "    data_means = train.groupby('rating').mean()\n",
    "    data_variance = train.groupby('rating').var()\n",
    "    \n",
    "    #Calculation of Priors using the training data set\n",
    "    for rating in range(1,6):\n",
    "        \n",
    "        count_rating[rating-1] = train['rating'][train['rating'] == rating].count()\n",
    "        count_male_r[rating-1] = train[(train['rating'] == rating) & (train['Gender'] == 0)].count()[0]\n",
    "        count_female_r[rating-1] = count_rating[rating-1] - count_male_r[rating-1]\n",
    "        for i, genre in enumerate(genre_dict):\n",
    "            count_genres[rating-1][i] = train[(train[str(genre)] == 1) & (train['rating'] == rating)].count()[0]\n",
    "        for i, occupation in enumerate(occupations):\n",
    "            count_occup_r[rating-1][i] = train[(train['Occupation'] == occupations[i]) & (train['rating'] == rating)].count()[0]\n",
    "    \n",
    "        year_mean_r[rating-1] = data_means['Year'][data_means.index == rating].values[0]\n",
    "        year_var_r[rating-1] = data_variance['Year'][data_variance.index == rating].values[0]\n",
    "        age_mean_r[rating-1] = data_means['Age'][data_means.index == rating].values[0]\n",
    "        age_var_r[rating-1] = data_variance['Age'][data_variance.index == rating].values[0]\n",
    "    \n",
    "    print ('Classifier Made, Starting Predictive Task')\n",
    "    \n",
    "    #Prediction using the classifier made above. Standard Naive Bayesian.\n",
    "    pred = np.zeros(len(test))\n",
    "    for i in range(len(test)):\n",
    "        rating_probs = []\n",
    "        for rating in range(1,6):\n",
    "            prob_age = 0.\n",
    "            prob_gender = 0.\n",
    "            prob_occ = 0.\n",
    "            prob_year = 0.\n",
    "            prob_genre = 0.\n",
    "            age_mean = age_mean_r[rating-1]\n",
    "            age_var = age_var_r[rating-1]\n",
    "            year_mean = year_mean_r[rating-1]\n",
    "            year_var = year_var_r[rating-1]\n",
    "            #Using gaussian distribution to calculate probability of age given rating\n",
    "            prob_age = 1/(np.sqrt(2*np.pi*age_var)) * np.exp((-(test['Age'][i]-age_mean)**2)/(2*age_var)) if (age_mean != 0 and age_var != 0) else 0.02\n",
    "            prob_gender = count_male_r[rating-1]/count_rating[rating-1] if test['Gender'][i] == 0 else count_female_r[rating-1]/count_rating[rating-1]\n",
    "            if prob_gender == 0: prob_gender = 0.5\n",
    "            for j, occ in enumerate(occupations):\n",
    "                if occ == test['Occupation'][i]:\n",
    "                    prob_occ = count_occup_r[rating-1][j]/count_rating[rating-1]\n",
    "            if prob_occ == 0: prob_occ = 1/len(occupations)\n",
    "            \n",
    "            prob_year = 1/(np.sqrt(2*np.pi*year_var)) * np.exp((-(test['Year'][i]-year_mean)**2)/(2*year_var)) if (year_mean != 0 and year_var != 0) else 0.02\n",
    "            #Heuristical way of calculating probability of genre match given rating\n",
    "            num_genres = 0\n",
    "            for j, genre in enumerate(genre_dict):\n",
    "                if test[str(genre)][i] == 1:\n",
    "                    prob_genre += (count_genres[rating-1][j])\n",
    "                    num_genres += 1\n",
    "            prob_genre /= (num_genres*count_rating[rating-1])\n",
    "            if prob_genre == 0: prob_genre = 0.02\n",
    "            prob_rating = prob_age * prob_gender * prob_occ * prob_year * prob_genre * (count_rating[rating-1]/n_samp)\n",
    "            rating_probs.append(prob_rating)\n",
    "        \n",
    "        #pred[i] = np.argmax(rating_probs) + 1\n",
    "        #Heuristic to increase result accuracy.\n",
    "        if rating_probs[0] + rating_probs[1] + rating_probs[2] > rating_probs[3] + rating_probs[4]:\n",
    "            pred[i] = np.argmax(rating_probs[:3]) + 1\n",
    "        else:\n",
    "            pred[i] = np.argmax(rating_probs[3:]) + 4\n",
    "    \n",
    "    return pred"
   ]
  },
  {
   "cell_type": "code",
   "execution_count": 10,
   "metadata": {},
   "outputs": [
    {
     "name": "stdout",
     "output_type": "stream",
     "text": [
      "Classifier Made, Starting Predictive Task\n"
     ]
    }
   ],
   "source": [
    "#Call the GNB function to predict rating given training set\n",
    "pred = GNB(training_data, target, test_data)"
   ]
  },
  {
   "cell_type": "code",
   "execution_count": 11,
   "metadata": {},
   "outputs": [
    {
     "data": {
      "text/plain": [
       "197656"
      ]
     },
     "execution_count": 11,
     "metadata": {},
     "output_type": "execute_result"
    }
   ],
   "source": [
    "len(pred)"
   ]
  },
  {
   "cell_type": "code",
   "execution_count": 13,
   "metadata": {},
   "outputs": [
    {
     "name": "stdout",
     "output_type": "stream",
     "text": [
      "Done!\n"
     ]
    }
   ],
   "source": [
    "#Writing results to a file\n",
    "predictions = open('nb_self_predictions.txt', 'w')\n",
    "predictions.write('Id,rating\\n')\n",
    "for i in range(len(pred)):\n",
    "    prediction = str(test_ids[i]) + ',' + str(int(round(pred[i]))) + '\\n'\n",
    "    predictions.write(prediction)\n",
    "\n",
    "print (\"Done!\")"
   ]
  }
 ],
 "metadata": {
  "kernelspec": {
   "display_name": "Python 3",
   "language": "python",
   "name": "python3"
  },
  "language_info": {
   "codemirror_mode": {
    "name": "ipython",
    "version": 3
   },
   "file_extension": ".py",
   "mimetype": "text/x-python",
   "name": "python",
   "nbconvert_exporter": "python",
   "pygments_lexer": "ipython3",
   "version": "3.6.0"
  }
 },
 "nbformat": 4,
 "nbformat_minor": 2
}
